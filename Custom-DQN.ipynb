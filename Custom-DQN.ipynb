{
 "cells": [
  {
   "cell_type": "markdown",
   "id": "9e791d82-1179-42d9-a902-5e300ea5fd3c",
   "metadata": {
    "tags": []
   },
   "source": [
    "# Imports needed for DQN\n",
    "## Custom Reward Model"
   ]
  },
  {
   "cell_type": "code",
   "execution_count": 1,
   "id": "c3152b05-ea41-48d6-ae39-8f31a47d7a81",
   "metadata": {},
   "outputs": [
    {
     "name": "stdout",
     "output_type": "stream",
     "text": [
      "cuda\n"
     ]
    }
   ],
   "source": [
    "\"\"\"\n",
    "Import Statements: From PyTorch RL Tutorial\n",
    "Unchanged code from Milestone\n",
    "\"\"\"\n",
    "import gym\n",
    "import math\n",
    "import random\n",
    "import numpy as np\n",
    "from itertools import count\n",
    "from PIL import Image\n",
    "import torch\n",
    "import torch.nn as nn\n",
    "import torch.optim as optim\n",
    "import torch.nn.functional as F\n",
    "import nle\n",
    "from collections import namedtuple, deque\n",
    "\n",
    "# if gpu is to be used\n",
    "device = torch.device(\"cuda\" if torch.cuda.is_available() else \"cpu\")\n",
    "print(device)"
   ]
  },
  {
   "cell_type": "markdown",
   "id": "966c7dc8-ac35-46aa-bdaa-840d59222598",
   "metadata": {
    "tags": []
   },
   "source": [
    "# Internal Imports & Setup"
   ]
  },
  {
   "cell_type": "code",
   "execution_count": 2,
   "id": "5e12e18e-c8b5-4848-8745-cf17d4948a6b",
   "metadata": {},
   "outputs": [],
   "source": [
    "from utils.terminal_stream import TerminalStream\n",
    "from utils.nle_metrics import NetHackMetricsEnv"
   ]
  },
  {
   "cell_type": "markdown",
   "id": "1b3ace18-95ee-4170-bd20-0f3d6d93a5ee",
   "metadata": {
    "tags": []
   },
   "source": [
    "# Replay Memory Class\n",
    "## Used to store a state into a queue (used in policy calculation)"
   ]
  },
  {
   "cell_type": "code",
   "execution_count": 3,
   "id": "7ed681f1-946b-43d7-8501-5cf8559333f5",
   "metadata": {},
   "outputs": [],
   "source": [
    "StateTransition = namedtuple('Transition',\n",
    "                        ('state', 'action', 'next_state', 'reward'))"
   ]
  },
  {
   "cell_type": "code",
   "execution_count": 4,
   "id": "a812f967-c70f-44ff-b1ff-5039839ba27f",
   "metadata": {},
   "outputs": [],
   "source": [
    "\"\"\"\n",
    "This model stores replays of memories as a whole. It also holds the full set, and manages removing old memories.\n",
    "From PyTorch DQN Tutorial\n",
    "\"\"\"\n",
    "class ReplayMemory():\n",
    "    def __init__(self, max_memory):\n",
    "        self.memory = deque([], maxlen=max_memory)\n",
    "    \n",
    "    def push(self, *newExp):\n",
    "        self.memory.append(StateTransition(*newExp))\n",
    "    \n",
    "    def sample(self, batch_size):\n",
    "        return random.sample(self.memory, batch_size)\n",
    "    \n",
    "    def __len__(self):\n",
    "        return len(self.memory)"
   ]
  },
  {
   "cell_type": "markdown",
   "id": "e3e1b5f2-bf3b-4eee-8cfe-392f008bdf45",
   "metadata": {},
   "source": [
    "# DQN Model, with two Conv2d layers\n",
    "## Takes the input provided by the dictionary in state"
   ]
  },
  {
   "cell_type": "code",
   "execution_count": 5,
   "id": "3d86cfce-7013-4876-9048-3682f4383e37",
   "metadata": {},
   "outputs": [],
   "source": [
    "\"\"\"\n",
    "DQN implementation, with convolutional layers, max pooling implemented.\n",
    "\"\"\"\n",
    "class DQNetwork(nn.Module):\n",
    "    def __init__(self, n_actions):\n",
    "        super(DQNetwork, self).__init__()\n",
    "        self.joe = nn.Sequential(\n",
    "            nn.Conv2d(4, 16, kernel_size=3, padding='same'),\n",
    "            nn.ReLU(), # 21 * 79 * 16\n",
    "            nn.MaxPool2d(3, padding=(0,1)), # 7 * 27 * 16\n",
    "            nn.Conv2d(16, 64, kernel_size=3, padding='same'),# 7 * 27 * 64\n",
    "            nn.ReLU(),\n",
    "            nn.MaxPool2d(3, padding=(1,0)), # 3 * 9 * 64\n",
    "            nn.Flatten(),\n",
    "            nn.Linear(3*9*64, 3*64),\n",
    "            nn.ReLU(),\n",
    "            # Hard coded activation layer\n",
    "            nn.Linear(3*64, n_actions),\n",
    "        )\n",
    "        \n",
    "    def forward(self, x):\n",
    "        logits = self.joe(x.float())\n",
    "        return logits"
   ]
  },
  {
   "cell_type": "markdown",
   "id": "650e198b-7864-460b-83a6-82c8edf5c18e",
   "metadata": {},
   "source": [
    "# Training"
   ]
  },
  {
   "cell_type": "code",
   "execution_count": 7,
   "id": "3ca06b4e-d88d-4337-b7c0-206af1aed284",
   "metadata": {},
   "outputs": [
    {
     "name": "stdout",
     "output_type": "stream",
     "text": [
      "Warning: tty_render function not found in nle.nethack. Searching in nle.env.base.\n"
     ]
    }
   ],
   "source": [
    "BATCH_SIZE = 128\n",
    "GAMMA = 0.999\n",
    "EPS_START = 0.9\n",
    "EPS_END = 0.05\n",
    "EPS_DECAY = 200\n",
    "TARGET_UPDATE = 10\n",
    "steps_done = 0\n",
    "\n",
    "# GYM\n",
    "env = NetHackMetricsEnv('DQN-Final-Valk', character='valkyrie-dwarf')\n",
    "n_actions = env.action_space.n"
   ]
  },
  {
   "cell_type": "code",
   "execution_count": 8,
   "id": "83cea590-47b5-4877-8221-2da09dd176c5",
   "metadata": {},
   "outputs": [],
   "source": [
    "policy_net = DQNetwork(n_actions).to(device)\n",
    "target_net = DQNetwork(n_actions).to(device)\n",
    "target_net.load_state_dict(policy_net.state_dict())\n",
    "target_net.eval()\n",
    "optimizer = optim.RMSprop(policy_net.parameters())\n",
    "memory = ReplayMemory(10000)"
   ]
  },
  {
   "cell_type": "code",
   "execution_count": 9,
   "id": "b286d76a-a79f-41a5-ad74-aed2db2f37b5",
   "metadata": {},
   "outputs": [],
   "source": [
    "def select_action(state):\n",
    "    global steps_done\n",
    "    sample = random.random()\n",
    "    eps_threshold = EPS_END + (EPS_START - EPS_END) * \\\n",
    "        math.exp(-1. * steps_done / EPS_DECAY)\n",
    "    steps_done += 1\n",
    "    if sample > eps_threshold:\n",
    "        with torch.no_grad():\n",
    "            # t.max(1) will return largest column value of each row.\n",
    "            # second column on max result is index of where max element was\n",
    "            # found, so we pick action with the larger expected reward.\n",
    "            return policy_net(state).max(1)[1].view(1, 1)\n",
    "    else:\n",
    "        return torch.tensor([[random.randrange(n_actions)]], device=device, dtype=torch.long)"
   ]
  },
  {
   "cell_type": "code",
   "execution_count": 10,
   "id": "4893b7d4-05cf-40d6-a194-4574f163eb9b",
   "metadata": {
    "tags": []
   },
   "outputs": [],
   "source": [
    "def optimize_model(iter_num):\n",
    "    if len(memory) < BATCH_SIZE:\n",
    "        return\n",
    "    transitions = memory.sample(BATCH_SIZE)\n",
    "    # Transpose the batch (see https://stackoverflow.com/a/19343/3343043 for\n",
    "    # detailed explanation). This converts batch-array of Transitions\n",
    "    # to Transition of batch-arrays.\n",
    "    batch = StateTransition(*zip(*transitions))\n",
    "\n",
    "    # Compute a mask of non-final states and concatenate the batch elements\n",
    "    # (a final state would've been the one after which simulation ended)\n",
    "    non_final_mask = torch.tensor(tuple(map(lambda s: s is not None,\n",
    "                                          batch.next_state)), device=device, dtype=torch.bool)\n",
    "    non_final_next_states = torch.cat([s for s in batch.next_state\n",
    "                                                if s is not None])\n",
    "    state_batch = torch.cat(batch.state)\n",
    "    action_batch = torch.cat(batch.action)\n",
    "    reward_batch = torch.cat(batch.reward)\n",
    "\n",
    "    # Compute Q(s_t, a) - the model computes Q(s_t), then we select the\n",
    "    # columns of actions taken. These are the actions which would've been taken\n",
    "    # for each batch state according to policy_net\n",
    "    state_action_values = policy_net(state_batch).gather(1, action_batch)\n",
    "\n",
    "    # Compute V(s_{t+1}) for all next states.\n",
    "    # Expected values of actions for non_final_next_states are computed based\n",
    "    # on the \"older\" target_net; selecting their best reward with max(1)[0].\n",
    "    # This is merged based on the mask, such that we'll have either the expected\n",
    "    # state value or 0 in case the state was final.\n",
    "    next_state_values = torch.zeros(BATCH_SIZE, device=device)\n",
    "    next_state_values[non_final_mask] = target_net(non_final_next_states).max(1)[0].detach()\n",
    "    # Compute the expected Q values\n",
    "    expected_state_action_values = (next_state_values * GAMMA) + reward_batch\n",
    "\n",
    "    # Compute Huber loss\n",
    "    criterion = nn.SmoothL1Loss()\n",
    "    loss = criterion(state_action_values, expected_state_action_values.unsqueeze(1))\n",
    "    if iter_num % 1000 == 0:\n",
    "        print('Iteration number ' + str(iter_num) + ' loss: ' + str(loss.item()))\n",
    "    \n",
    "    # Optimize the model\n",
    "    optimizer.zero_grad()\n",
    "    loss.backward()\n",
    "    for param in policy_net.parameters():\n",
    "        param.grad.data.clamp_(-1, 1)\n",
    "    optimizer.step()"
   ]
  },
  {
   "cell_type": "markdown",
   "id": "e5184a5d-13d0-4cbf-83b8-2eef9ce24335",
   "metadata": {
    "partialCollapse": true,
    "tags": []
   },
   "source": [
    "# Train for a set number of episodes\n",
    "## 1 Episode = 1 Full gameplay of NetHack\n",
    "### Either we die, quit or beat the game"
   ]
  },
  {
   "cell_type": "code",
   "execution_count": 11,
   "id": "5a888ce8-8ae4-4252-adad-70243cf63540",
   "metadata": {},
   "outputs": [],
   "source": [
    "def concat_state(state):\n",
    "    state = np.stack((state['glyphs'], state['chars'], state['colors'], state['specials']))\n",
    "    state = torch.tensor(np.expand_dims(state, axis=0), device=device)\n",
    "    return state"
   ]
  },
  {
   "cell_type": "code",
   "execution_count": null,
   "id": "0ce7c3ad-ab9d-4d04-82b4-03e3c916761a",
   "metadata": {},
   "outputs": [
    {
     "name": "stdout",
     "output_type": "stream",
     "text": [
      "Iteration number 1000 loss: 73193.96875\n",
      "Iteration number 2000 loss: 62188.78125\n",
      "Iteration number 3000 loss: 49160.40625\n",
      "Iteration number 4000 loss: 47009.0390625\n",
      "Iteration number 5000 loss: 47174.65234375\n"
     ]
    }
   ],
   "source": [
    "%%time\n",
    "MAX_STEPS = 1000000\n",
    "\n",
    "obs = env.reset()\n",
    "\n",
    "for t in range(MAX_STEPS):\n",
    "    state = concat_state(obs)\n",
    "    \n",
    "    # Select and perform an action\n",
    "    action = select_action(state)\n",
    "    obs, reward, done, _ = env.step(action.item())\n",
    "    reward = torch.tensor([reward], device=device)\n",
    "\n",
    "    # Keep track of current state and previous states \n",
    "    last_state = state\n",
    "    state = concat_state(obs)\n",
    "\n",
    "    # Store the transition in memory\n",
    "    memory.push(last_state, action, state, reward)\n",
    "\n",
    "    # Perform one step of the optimization (on the policy network)\n",
    "    optimize_model(t)\n",
    "\n",
    "    if done:\n",
    "        obs = env.reset()\n",
    "    # Update the target network, copying all weights and biases in DQN\n",
    "    if t % TARGET_UPDATE == 0:\n",
    "        target_net.load_state_dict(policy_net.state_dict())\n",
    "print('Complete')\n",
    "env.write_report()"
   ]
  },
  {
   "cell_type": "markdown",
   "id": "b5aa5f2c-4716-4899-9ed8-3dd5cd62a2cb",
   "metadata": {},
   "source": [
    "# Save the models\n",
    "## Continue to train it later, or to load it up when you are testing. "
   ]
  },
  {
   "cell_type": "code",
   "execution_count": null,
   "id": "5c868386-079f-4de0-92ef-eb535cdcb0c4",
   "metadata": {},
   "outputs": [],
   "source": [
    "torch.save(policy_net, 'policy-custom-reward-valk')\n",
    "torch.save(target_net, 'target-custom-reward-valk')"
   ]
  },
  {
   "cell_type": "markdown",
   "id": "db7328c2-b8f0-43d3-904e-645cfe9303da",
   "metadata": {
    "tags": []
   },
   "source": [
    "# Testing"
   ]
  },
  {
   "cell_type": "code",
   "execution_count": null,
   "id": "4b318bc1-7b38-4362-8667-4204e9a82a04",
   "metadata": {},
   "outputs": [],
   "source": [
    "\"\"\"\n",
    "Loads the data if there is need for it. \n",
    "Should only be ran if we trained without testing and vice versa. \n",
    "\"\"\"\n",
    "policy_net = torch.load('joe-policy')\n",
    "policy_net.eval()\n",
    "target_net = torch.load('joe-target')\n",
    "target_net.eval()"
   ]
  },
  {
   "cell_type": "code",
   "execution_count": null,
   "id": "3693ef3b-b1f5-423b-9d01-22c96ee96efb",
   "metadata": {},
   "outputs": [],
   "source": [
    "\"\"\"\n",
    "Testing code will go below here\n",
    "\"\"\""
   ]
  },
  {
   "cell_type": "code",
   "execution_count": null,
   "id": "266cf61e-b669-42bb-a263-cfb8b115ad3d",
   "metadata": {},
   "outputs": [],
   "source": [
    "torch.save()"
   ]
  }
 ],
 "metadata": {
  "kernelspec": {
   "display_name": "Python 3 (ipykernel)",
   "language": "python",
   "name": "python3"
  },
  "language_info": {
   "codemirror_mode": {
    "name": "ipython",
    "version": 3
   },
   "file_extension": ".py",
   "mimetype": "text/x-python",
   "name": "python",
   "nbconvert_exporter": "python",
   "pygments_lexer": "ipython3",
   "version": "3.9.7"
  }
 },
 "nbformat": 4,
 "nbformat_minor": 5
}
