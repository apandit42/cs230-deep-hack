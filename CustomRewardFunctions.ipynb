{
 "cells": [
  {
   "cell_type": "code",
   "execution_count": 1,
   "id": "5afa79c2-87c0-44ac-b202-781e8b0e51cd",
   "metadata": {},
   "outputs": [],
   "source": [
    "import gym\n",
    "import nle"
   ]
  },
  {
   "cell_type": "code",
   "execution_count": null,
   "id": "3e6a1270-7e14-427c-8532-5114fae25b58",
   "metadata": {},
   "outputs": [],
   "source": []
  }
 ],
 "metadata": {
  "kernelspec": {
   "display_name": "Python 3 (ipykernel)",
   "language": "python",
   "name": "python3"
  },
  "language_info": {
   "codemirror_mode": {
    "name": "ipython",
    "version": 3
   },
   "file_extension": ".py",
   "mimetype": "text/x-python",
   "name": "python",
   "nbconvert_exporter": "python",
   "pygments_lexer": "ipython3",
   "version": "3.9.7"
  }
 },
 "nbformat": 4,
 "nbformat_minor": 5
}
