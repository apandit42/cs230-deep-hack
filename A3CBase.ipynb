{
 "cells": [
  {
   "cell_type": "markdown",
   "id": "44c78a5f-0d35-42a5-9a5d-ba02d3cd6a30",
   "metadata": {},
   "source": [
    "# Imports for A3C"
   ]
  },
  {
   "cell_type": "code",
   "execution_count": null,
   "id": "abbcdea4-f039-496e-9432-73673543f5b5",
   "metadata": {
    "tags": []
   },
   "outputs": [],
   "source": [
    "import gym\n",
    "import torch as T\n",
    "import torch.multiprocessing as mp\n",
    "import torch.nn as nn\n",
    "import torch.nn.functional as F\n",
    "from torch.distributions import Categorical\n",
    "import numpy as np\n",
    "import nle\n",
    "\n",
    "# Used for while loop with counter:\n",
    "from itertools import count"
   ]
  },
  {
   "cell_type": "markdown",
   "id": "139c4fd9-e72d-49c3-a7f2-7880e2aa2e3e",
   "metadata": {
    "tags": []
   },
   "source": [
    "# Helper Functions"
   ]
  },
  {
   "cell_type": "code",
   "execution_count": null,
   "id": "0d6fec84-2a1d-4138-ac43-44f3ac359629",
   "metadata": {},
   "outputs": [],
   "source": [
    "def concat_state(state):\n",
    "    state = np.stack((state['glyphs'],\n",
    "                   state['chars'],\n",
    "                   state['colors'],\n",
    "                   state['specials']))\n",
    "    state = np.reshape(state, (21, 79, 4))\n",
    "    state = state.flatten()\n",
    "    return state"
   ]
  },
  {
   "cell_type": "markdown",
   "id": "7c35447d-4012-47f6-b3c4-2c0e059953fb",
   "metadata": {},
   "source": [
    "# Shared Optimizer\n",
    "## Used by all Agents/Workers to update after each finish an episode"
   ]
  },
  {
   "cell_type": "code",
   "execution_count": null,
   "id": "7da8fa4b-f414-4c1d-a71f-b87f66cfc556",
   "metadata": {},
   "outputs": [],
   "source": [
    "\"\"\"\n",
    "Shared Optimizer is the optimzer that is updated throughout training from each of the workers. \n",
    "\"\"\"\n",
    "class SharedAdam(T.optim.Adam):\n",
    "    def __init__(self, params, lr=1e-3, betas=(0.9, 0.99), eps=1e-8,\n",
    "            weight_decay=0):\n",
    "        super(SharedAdam, self).__init__(params, lr=lr, betas=betas, eps=eps,\n",
    "                weight_decay=weight_decay)\n",
    "\n",
    "        for group in self.param_groups:\n",
    "            for p in group['params']:\n",
    "                state = self.state[p]\n",
    "                state['step'] = 0\n",
    "                state['exp_avg'] = T.zeros_like(p.data)\n",
    "                state['exp_avg_sq'] = T.zeros_like(p.data)\n",
    "\n",
    "                state['exp_avg'].share_memory_()\n",
    "                state['exp_avg_sq'].share_memory_()"
   ]
  },
  {
   "cell_type": "markdown",
   "id": "16c292f5-8797-420e-9985-c53421654b9e",
   "metadata": {},
   "source": [
    "# Actor/Critic NN\n",
    "## Each Agent has their own set of NN to update when they are in their own independent run"
   ]
  },
  {
   "cell_type": "code",
   "execution_count": null,
   "id": "995fb604-e135-484a-a4e6-f58dd5b6fcd5",
   "metadata": {
    "tags": []
   },
   "outputs": [],
   "source": [
    "class ActorCritic(nn.Module):\n",
    "    def __init__(self, input_dims, n_actions, gamma=0.99):\n",
    "        super(ActorCritic, self).__init__()\n",
    "        \n",
    "        self.gamma = gamma\n",
    "        \n",
    "        # Very simple 2 layer neural netwrork. \n",
    "        i, j, k = input_dims\n",
    "        num_inputs = i * j * k\n",
    "        hidden_layer = int(num_inputs / 2)\n",
    "        \n",
    "        # Two distinct networks, one for the policy and one for the value. \n",
    "        self.pi1 = nn.Linear(num_inputs, hidden_layer)\n",
    "        self.v1 = nn.Linear(num_inputs, hidden_layer)\n",
    "        self.pi = nn.Linear(hidden_layer, n_actions)\n",
    "        self.v = nn.Linear(hidden_layer, 1)\n",
    "\n",
    "        self.rewards = []\n",
    "        self.actions = []\n",
    "        self.states = []\n",
    "\n",
    "    def remember(self, state, action, reward):\n",
    "        self.states.append(state)\n",
    "        self.actions.append(action)\n",
    "        self.rewards.append(reward)\n",
    "\n",
    "    def clear_memory(self):\n",
    "        self.states = []\n",
    "        self.actions = []\n",
    "        self.rewards = []\n",
    "\n",
    "    def forward(self, state):\n",
    "        pi1 = T.sigmoid(self.pi1(state))\n",
    "        v1 = T.sigmoid(self.v1(state))\n",
    "\n",
    "        pi = self.pi(pi1)\n",
    "        v = self.v(v1)\n",
    "\n",
    "        return pi, v\n",
    "\n",
    "    def calc_R(self, done):\n",
    "        states = T.tensor(self.states, dtype=T.float)\n",
    "        _, v = self.forward(states)\n",
    "\n",
    "        R = v[-1]*(1-int(done))\n",
    "\n",
    "        batch_return = []\n",
    "        for reward in self.rewards[::-1]:\n",
    "            R = reward + self.gamma*R\n",
    "            batch_return.append(R)\n",
    "        batch_return.reverse()\n",
    "        batch_return = T.tensor(batch_return, dtype=T.float)\n",
    "\n",
    "        return batch_return\n",
    "\n",
    "    def calc_loss(self, done):\n",
    "        states = T.tensor(self.states, dtype=T.float)\n",
    "        actions = T.tensor(self.actions, dtype=T.float)\n",
    "\n",
    "        returns = self.calc_R(done)\n",
    "        pi, values = self.forward(states)\n",
    "        values = values.squeeze()\n",
    "        critic_loss = (returns-values)**2\n",
    "\n",
    "        probs = T.softmax(pi, dim=0)\n",
    "        # Get rid of negative values, and normalize the tensor in order \n",
    "        # for the probabilities to be valid for Categorical. \n",
    "#         probs[probs < 0] = 0\n",
    "#         probs = T.nn.functional.normalize(probs, dim=0)\n",
    "        dist = Categorical(probs)\n",
    "        log_probs = dist.log_prob(actions)\n",
    "        actor_loss = -log_probs*(returns-values)\n",
    "\n",
    "        total_loss = (critic_loss + actor_loss).mean()\n",
    "    \n",
    "        return total_loss\n",
    "\n",
    "    def choose_action(self, observation):\n",
    "        observation = concat_state(observation)\n",
    "        state = T.tensor(observation, dtype=T.float)\n",
    "\n",
    "        pi, v = self.forward(state)\n",
    "        probs = T.softmax(pi, dim=0)\n",
    "        # Get rid of negative values, and normalize the tensor in order \n",
    "        # for the probabilities to be valid for Categorical. \n",
    "#         probs[probs < 0] = 0\n",
    "#         probs = T.nn.functional.normalize(probs, dim=0)\n",
    "        # Use softmax in order to determine the next action to take\n",
    "        dist = Categorical(probs)\n",
    "        \n",
    "        # Sample the action with the highest probability. Should be from (zero to n_actions-1)\n",
    "        action = dist.sample().item()\n",
    "        return action"
   ]
  },
  {
   "cell_type": "markdown",
   "id": "593639c1-1307-49f7-8723-8d8053568026",
   "metadata": {},
   "source": [
    "# Agent Class\n",
    "## Initializes its own set of NN, updates shared optimizer accordingly"
   ]
  },
  {
   "cell_type": "code",
   "execution_count": null,
   "id": "5156fd8e-cf9f-45b5-86d0-42c57a81743f",
   "metadata": {},
   "outputs": [],
   "source": [
    "class Agent(mp.Process):\n",
    "    def __init__(self, global_actor_critic, optimizer, input_dims, n_actions, \n",
    "                gamma, lr, name, global_ep_idx, env_id, num_eps):\n",
    "        super(Agent, self).__init__()\n",
    "        self.local_actor_critic = ActorCritic(input_dims, n_actions, gamma)\n",
    "        self.global_actor_critic = global_actor_critic\n",
    "        self.name = 'w%02i' % name\n",
    "        self.episode_idx = global_ep_idx\n",
    "        self.env = gym.make(env_id)\n",
    "        self.optimizer = optimizer\n",
    "        self.num_eps = num_eps\n",
    "\n",
    "    def run(self):\n",
    "        # Run an environment instance for num_eps\n",
    "        for curr_ep in range(self.num_eps):\n",
    "            # Print when an episode starts\n",
    "            with self.episode_idx.get_lock():\n",
    "                print(self.name, ' has started. Episode: ', self.episode_idx.value)\n",
    "            # New NetHack Run is about to spawn. Delete anything from previous runs. \n",
    "            done = False\n",
    "            observation = self.env.reset()\n",
    "            score = 0\n",
    "            self.local_actor_critic.clear_memory()\n",
    "            \n",
    "            # While the game has not ended\n",
    "            for ep_step in count():\n",
    "                action = self.local_actor_critic.choose_action(observation)\n",
    "                next_observation, reward, done, _ = self.env.step(action)\n",
    "                score += reward\n",
    "                # Store the current value into the memory, used for calculating loss and R.\n",
    "                observation_concat = concat_state(observation)\n",
    "                self.local_actor_critic.remember(observation_concat, action, reward)\n",
    "                \n",
    "                # Used to update our Global Optimizer: \"SharedAdam\". Only do so every 5 iteration of each agent. \n",
    "                # Then, copy the global optimizer onto the the local one, so that each agent\n",
    "                # uses the most updated version of it (contributed by all other agents). \n",
    "                if curr_ep % T_MAX == 0 or done:\n",
    "                    loss = self.local_actor_critic.calc_loss(done)\n",
    "                    self.optimizer.zero_grad()\n",
    "                    loss.backward()\n",
    "                    for local_param, global_param in zip(\n",
    "                            self.local_actor_critic.parameters(),\n",
    "                            self.global_actor_critic.parameters()):\n",
    "                        global_param._grad = local_param.grad\n",
    "                    self.optimizer.step()\n",
    "                    self.local_actor_critic.load_state_dict(\n",
    "                            self.global_actor_critic.state_dict())\n",
    "                    self.local_actor_critic.clear_memory()\n",
    "                observation = next_observation\n",
    "                # Update Global episode counter. I.e. Keep track of total worker steps.\n",
    "                with self.episode_idx.get_lock():\n",
    "                    self.episode_idx.value += 1\n",
    "                    print(self.name, 'Global Ep.', self.episode_idx.value, 'reward %.1f' % score, 'Local Ep.', curr_ep, 'Ep. Step', ep_step)\n",
    "            with self.episode_idx.get_lock():\n",
    "                print(self.name, 'has finished Episode:', curr_ep, 'with a score of', score)\n",
    "        # End the NetHack Environment if it has done all of the episods its reponsible for\n",
    "        self.env.close()"
   ]
  },
  {
   "cell_type": "markdown",
   "id": "a53cefe7-f2a4-4818-9d98-f71da71d083c",
   "metadata": {
    "tags": []
   },
   "source": [
    "# Main Function"
   ]
  },
  {
   "cell_type": "code",
   "execution_count": null,
   "id": "4842c347-126d-40e2-ab53-39afd4a3c6a0",
   "metadata": {},
   "outputs": [],
   "source": [
    "if __name__ == '__main__':\n",
    "    lr = 1e-4\n",
    "    # Environment string name to be used to make \n",
    "    # a new environment in gym. One per thread.\n",
    "    env_id = 'NetHackScore-v0'\n",
    "    # Number of actions in the environment env_id (NetHack-v0 has 79)\n",
    "    n_actions = 23\n",
    "    # Size of the input layer, i.e. size of the world in nethack\n",
    "    # (Eventually with more of a third dimension as it gets more data\n",
    "    # from the state dictionary)\n",
    "    input_dims = (21, 79, 4)\n",
    "    # Steps to play\n",
    "    num_eps = 1\n",
    "    T_MAX = 5\n",
    "    \n",
    "    # The main Network connecting all of the Agents. Holds the \n",
    "    # Most current parameters.\n",
    "    global_actor_critic = ActorCritic(input_dims, n_actions)\n",
    "    global_actor_critic.share_memory()\n",
    "    optim = SharedAdam(global_actor_critic.parameters(), lr=lr, \n",
    "                        betas=(0.92, 0.999))\n",
    "    global_ep = mp.Value('i', 0)\n",
    "    \n",
    "    # Initializes each Agent. One per thread.\n",
    "    workers = [Agent(global_actor_critic,\n",
    "                    optim,\n",
    "                    input_dims,\n",
    "                    n_actions,\n",
    "                    gamma=0.99,\n",
    "                    lr=lr,\n",
    "                    name=i,\n",
    "                    global_ep_idx=global_ep,\n",
    "                    env_id=env_id, num_eps=num_eps) for i in range(mp.cpu_count())]\n",
    "    [w.start() for w in workers]\n",
    "    [w.join() for w in workers]\n",
    "    print('Finished Training')"
   ]
  },
  {
   "cell_type": "markdown",
   "id": "8b72223d-06e7-48ca-8a16-31440c1b8a93",
   "metadata": {
    "jp-MarkdownHeadingCollapsed": true,
    "tags": []
   },
   "source": [
    "# Misc. Testing code\n",
    "## Ignore, Used to make sure different variables are valid throughout the code."
   ]
  },
  {
   "cell_type": "code",
   "execution_count": null,
   "id": "4a1a1129-bdb1-4d3e-87aa-1be1a3cdf086",
   "metadata": {
    "tags": []
   },
   "outputs": [],
   "source": [
    "env_test = gym.make('NetHackScore-v0', savedir=None)"
   ]
  },
  {
   "cell_type": "code",
   "execution_count": null,
   "id": "560353d1-5207-4fa2-b637-c85d357d314a",
   "metadata": {},
   "outputs": [],
   "source": [
    "len(env_test._actions)"
   ]
  },
  {
   "cell_type": "code",
   "execution_count": null,
   "id": "45edc5b8-dba8-46f4-a705-8b713eeb1baa",
   "metadata": {},
   "outputs": [],
   "source": [
    "observation = env_test.reset()"
   ]
  },
  {
   "cell_type": "code",
   "execution_count": null,
   "id": "cf645d3b-2e23-409c-913c-2293ef4a4a4a",
   "metadata": {},
   "outputs": [],
   "source": [
    "print(observation)"
   ]
  },
  {
   "cell_type": "code",
   "execution_count": null,
   "id": "70cb1524-264e-4042-83d7-2fcda82f57ac",
   "metadata": {},
   "outputs": [],
   "source": [
    "arr = np.stack((observation['glyphs'],\n",
    "               observation['chars'],\n",
    "               observation['colors'],\n",
    "               observation['specials']))\n",
    "print(arr.shape)\n",
    "arr = np.reshape(arr, (21, 79, 4))\n",
    "print(arr.shape)\n",
    "arr = arr.flatten()\n",
    "print(arr.shape)"
   ]
  },
  {
   "cell_type": "code",
   "execution_count": null,
   "id": "87812566-d384-4b7c-b693-5c85da8ba5c1",
   "metadata": {},
   "outputs": [],
   "source": []
  },
  {
   "cell_type": "code",
   "execution_count": null,
   "id": "302fdbda-eb43-48df-9cfa-c09ea2014c5c",
   "metadata": {},
   "outputs": [],
   "source": []
  }
 ],
 "metadata": {
  "kernelspec": {
   "display_name": "Python 3 (ipykernel)",
   "language": "python",
   "name": "python3"
  },
  "language_info": {
   "codemirror_mode": {
    "name": "ipython",
    "version": 3
   },
   "file_extension": ".py",
   "mimetype": "text/x-python",
   "name": "python",
   "nbconvert_exporter": "python",
   "pygments_lexer": "ipython3",
   "version": "3.9.7"
  }
 },
 "nbformat": 4,
 "nbformat_minor": 5
}
