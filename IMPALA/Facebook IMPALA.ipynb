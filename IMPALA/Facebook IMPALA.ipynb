{
 "cells": [
  {
   "cell_type": "markdown",
   "id": "012a9c17-8b7c-4add-a39f-5fc91eed2ca5",
   "metadata": {},
   "source": [
    "# Facebook's IMAPALA Algorithm for NetHack"
   ]
  },
  {
   "cell_type": "markdown",
   "id": "ba27a62d-4b58-46c6-8bdd-9b1266d4ec9c",
   "metadata": {},
   "source": [
    "## Imports and Background information #\n",
    "\n",
    "**From Facebook's Comment at the top of the file**\n",
    "\n",
    "This file taken from\n",
    "    https://github.com/deepmind/scalable_agent/blob/\n",
    "        cd66d00914d56c8ba2f0615d9cdeefcb169a8d70/vtrace.py\n",
    "and modified.\n",
    "\n",
    "Copyright 2018 Google LLC\n",
    "\n",
    "Licensed under the Apache License, Version 2.0 (the \"License\");\n",
    "you may not use this file except in compliance with the License.\n",
    "You may obtain a copy of the License at\n",
    "\n",
    "    https://www.apache.org/licenses/LICENSE-2.0\n",
    "\n",
    "Unless required by applicable law or agreed to in writing, software\n",
    "distributed under the License is distributed on an \"AS IS\" BASIS,\n",
    "WITHOUT WARRANTIES OR CONDITIONS OF ANY KIND, either express or implied.\n",
    "See the License for the specific language governing permissions and\n",
    "limitations under the License."
   ]
  },
  {
   "cell_type": "code",
   "execution_count": 1,
   "id": "b459bda4-e223-46cf-ba89-293fc8f1e98d",
   "metadata": {},
   "outputs": [],
   "source": [
    "\"\"\"Functions to compute V-trace off-policy actor critic targets.\n",
    "For details and theory see:\n",
    "\"IMPALA: Scalable Distributed Deep-RL with\n",
    "Importance Weighted Actor-Learner Architectures\"\n",
    "by Espeholt, Soyer, Munos et al.\n",
    "See https://arxiv.org/abs/1802.01561 for the full paper.\n",
    "\"\"\"\n",
    "import collections\n",
    "\n",
    "import torch\n",
    "import torch.nn.functional as F"
   ]
  },
  {
   "cell_type": "markdown",
   "id": "e84968bc-e1bc-46e9-bed5-39d84e164f5d",
   "metadata": {
    "tags": []
   },
   "source": [
    "## Misc. Helper objects"
   ]
  },
  {
   "cell_type": "code",
   "execution_count": 2,
   "id": "ab9c41cf-4aca-46a9-af01-5ee7b6331677",
   "metadata": {},
   "outputs": [],
   "source": [
    "VTraceFromLogitsReturns = collections.namedtuple(\n",
    "    \"VTraceFromLogitsReturns\",\n",
    "    [\n",
    "        \"vs\",\n",
    "        \"pg_advantages\",\n",
    "        \"log_rhos\",\n",
    "        \"behavior_action_log_probs\",\n",
    "        \"target_action_log_probs\",\n",
    "    ],\n",
    ")\n",
    "\n",
    "VTraceReturns = collections.namedtuple(\"VTraceReturns\", \"vs pg_advantages\")"
   ]
  },
  {
   "cell_type": "markdown",
   "id": "5a08a013-3d1c-47d4-9fca-84711bd64614",
   "metadata": {},
   "source": [
    "## Helper Functions"
   ]
  },
  {
   "cell_type": "code",
   "execution_count": 3,
   "id": "613c71aa-8a36-4f6f-b1ec-f0c14f192efa",
   "metadata": {},
   "outputs": [],
   "source": [
    "def action_log_probs(policy_logits, actions):\n",
    "    return -F.nll_loss(\n",
    "        F.log_softmax(torch.flatten(policy_logits, 0, -2), dim=-1),\n",
    "        torch.flatten(actions),\n",
    "        reduction=\"none\",\n",
    "    ).view_as(actions)\n",
    "\n",
    "\n",
    "def from_logits(\n",
    "    behavior_policy_logits,\n",
    "    target_policy_logits,\n",
    "    actions,\n",
    "    discounts,\n",
    "    rewards,\n",
    "    values,\n",
    "    bootstrap_value,\n",
    "    clip_rho_threshold=1.0,\n",
    "    clip_pg_rho_threshold=1.0,\n",
    "):\n",
    "    \"\"\"V-trace for softmax policies.\"\"\"\n",
    "\n",
    "    target_action_log_probs = action_log_probs(target_policy_logits, actions)\n",
    "    behavior_action_log_probs = action_log_probs(behavior_policy_logits, actions)\n",
    "    log_rhos = target_action_log_probs - behavior_action_log_probs\n",
    "    vtrace_returns = from_importance_weights(\n",
    "        log_rhos=log_rhos,\n",
    "        discounts=discounts,\n",
    "        rewards=rewards,\n",
    "        values=values,\n",
    "        bootstrap_value=bootstrap_value,\n",
    "        clip_rho_threshold=clip_rho_threshold,\n",
    "        clip_pg_rho_threshold=clip_pg_rho_threshold,\n",
    "    )\n",
    "    return VTraceFromLogitsReturns(\n",
    "        log_rhos=log_rhos,\n",
    "        behavior_action_log_probs=behavior_action_log_probs,\n",
    "        target_action_log_probs=target_action_log_probs,\n",
    "        **vtrace_returns._asdict(),\n",
    "    )\n"
   ]
  },
  {
   "cell_type": "code",
   "execution_count": 4,
   "id": "ee221f7e-ca16-4e9e-9713-15347b89a1e2",
   "metadata": {},
   "outputs": [],
   "source": [
    "@torch.no_grad()\n",
    "def from_importance_weights(\n",
    "    log_rhos,\n",
    "    discounts,\n",
    "    rewards,\n",
    "    values,\n",
    "    bootstrap_value,\n",
    "    clip_rho_threshold=1.0,\n",
    "    clip_pg_rho_threshold=1.0,\n",
    "):\n",
    "    \"\"\"V-trace from log importance weights.\"\"\"\n",
    "    with torch.no_grad():\n",
    "        rhos = torch.exp(log_rhos)\n",
    "        if clip_rho_threshold is not None:\n",
    "            clipped_rhos = torch.clamp(rhos, max=clip_rho_threshold)\n",
    "        else:\n",
    "            clipped_rhos = rhos\n",
    "\n",
    "        cs = torch.clamp(rhos, max=1.0)\n",
    "        # Append bootstrapped value to get [v1, ..., v_t+1]\n",
    "        values_t_plus_1 = torch.cat(\n",
    "            [values[1:], torch.unsqueeze(bootstrap_value, 0)], dim=0\n",
    "        )\n",
    "        deltas = clipped_rhos * (rewards + discounts * values_t_plus_1 - values)\n",
    "\n",
    "        acc = torch.zeros_like(bootstrap_value)\n",
    "        result = []\n",
    "        for t in range(discounts.shape[0] - 1, -1, -1):\n",
    "            acc = deltas[t] + discounts[t] * cs[t] * acc\n",
    "            result.append(acc)\n",
    "        result.reverse()\n",
    "        vs_minus_v_xs = torch.stack(result)\n",
    "\n",
    "        # Add V(x_s) to get v_s.\n",
    "        vs = torch.add(vs_minus_v_xs, values)\n",
    "\n",
    "        # Advantage for policy gradient.\n",
    "        broadcasted_bootstrap_values = torch.ones_like(vs[0]) * bootstrap_value\n",
    "        vs_t_plus_1 = torch.cat(\n",
    "            [vs[1:], broadcasted_bootstrap_values.unsqueeze(0)], dim=0\n",
    "        )\n",
    "        if clip_pg_rho_threshold is not None:\n",
    "            clipped_pg_rhos = torch.clamp(rhos, max=clip_pg_rho_threshold)\n",
    "        else:\n",
    "            clipped_pg_rhos = rhos\n",
    "        pg_advantages = clipped_pg_rhos * (rewards + discounts * vs_t_plus_1 - values)\n",
    "\n",
    "        # Make sure no gradients backpropagated through the returned values.\n",
    "        return VTraceReturns(vs=vs, pg_advantages=pg_advantages)"
   ]
  },
  {
   "cell_type": "code",
   "execution_count": null,
   "id": "069d7012-8709-4166-9269-1bbba8ec742d",
   "metadata": {},
   "outputs": [],
   "source": []
  }
 ],
 "metadata": {
  "kernelspec": {
   "display_name": "Python 3 (ipykernel)",
   "language": "python",
   "name": "python3"
  },
  "language_info": {
   "codemirror_mode": {
    "name": "ipython",
    "version": 3
   },
   "file_extension": ".py",
   "mimetype": "text/x-python",
   "name": "python",
   "nbconvert_exporter": "python",
   "pygments_lexer": "ipython3",
   "version": "3.9.7"
  }
 },
 "nbformat": 4,
 "nbformat_minor": 5
}
