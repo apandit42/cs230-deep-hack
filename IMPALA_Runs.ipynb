{
 "cells": [
  {
   "cell_type": "code",
   "execution_count": 4,
   "id": "94febcf4-2a13-40bb-9f3c-04238659be3a",
   "metadata": {},
   "outputs": [],
   "source": [
    "from pathlib import Path\n",
    "from datetime import datetime\n",
    "from utils.terminal_stream import TerminalStream\n",
    "from utils.nethackboost import NetHackBoost\n",
    "from utils.nle_metrics import NetHackMetricsEnv\n",
    "import pandas as pd\n",
    "import matplotlib.pyplot as plt\n",
    "from collections import namedtuple\n",
    "import random\n",
    "import sys\n",
    "import numpy as np\n",
    "import re\n",
    "import string\n",
    "import gym"
   ]
  },
  {
   "cell_type": "code",
   "execution_count": 6,
   "id": "1119039f-bd78-48d9-9632-26a1c5146f87",
   "metadata": {},
   "outputs": [],
   "source": [
    "from custom_agent import SimpleMain"
   ]
  },
  {
   "cell_type": "code",
   "execution_count": null,
   "id": "18470361-efbd-4583-8be2-6b669e19ddc1",
   "metadata": {},
   "outputs": [],
   "source": []
  }
 ],
 "metadata": {
  "kernelspec": {
   "display_name": "Python 3 (ipykernel)",
   "language": "python",
   "name": "python3"
  },
  "language_info": {
   "codemirror_mode": {
    "name": "ipython",
    "version": 3
   },
   "file_extension": ".py",
   "mimetype": "text/x-python",
   "name": "python",
   "nbconvert_exporter": "python",
   "pygments_lexer": "ipython3",
   "version": "3.9.7"
  }
 },
 "nbformat": 4,
 "nbformat_minor": 5
}
