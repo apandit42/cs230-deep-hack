{
 "cells": [
  {
   "cell_type": "code",
   "execution_count": 1,
   "id": "9f4898fc-7218-4530-a316-1fb5bc529448",
   "metadata": {},
   "outputs": [],
   "source": [
    "# We update the parameters of some global optimizer, and local agents do the learning on their own\n",
    "# Advantage is that an agent can maximize its score over time. \n",
    "# Actor network tells the agent how to act\n",
    "# Does so by approximating the policy\n",
    "# Actor network takes in a state or set of states, outputs a softmax that is then put into a categorical distribution.\n",
    "# This is our update rule. \n",
    "# The critic, critizes what the actor chose. \"This is a lousy return.\" So we shouldnt take this action if\n",
    "# we ever encounter it again. They build off of each other to learn what not to do in the future. \n",
    "\n",
    "# Implementation:\n",
    "# Overwriting Adam optimizer from pytorch. It simply tells it we want to share params with threaded pools\n",
    "# Two totally different networks. Agent will also have a memory for the shared params.\n",
    "\n",
    "# Then, goes our agent class. Each thread will have their own agent, and thus, within each episode, it will have a fixed sequence of steps. \n",
    "#Create global agent, list of workers, and each will get a start command.\n",
    "\n",
    "#Critique: Brutal algorithm. Need hyperparameter tuning. Also, highly sensitive to initial parameter. \n",
    "# Can mitigate this with random seeds. and run it multiple times and high degree of variation. \n",
    "\n"
   ]
  },
  {
   "cell_type": "code",
   "execution_count": null,
   "id": "bb70ec03-e7c8-42f9-81b2-d2235e87fc2f",
   "metadata": {},
   "outputs": [],
   "source": [
    "import gym\n",
    "import torch as T\n",
    "import torch.multiprocessing as mp"
   ]
  }
 ],
 "metadata": {
  "kernelspec": {
   "display_name": "Python 3",
   "language": "python",
   "name": "python3"
  },
  "language_info": {
   "codemirror_mode": {
    "name": "ipython",
    "version": 3
   },
   "file_extension": ".py",
   "mimetype": "text/x-python",
   "name": "python",
   "nbconvert_exporter": "python",
   "pygments_lexer": "ipython3",
   "version": "3.9.7"
  }
 },
 "nbformat": 4,
 "nbformat_minor": 5
}
