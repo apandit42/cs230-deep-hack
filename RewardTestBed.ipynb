{
 "cells": [
  {
   "cell_type": "markdown",
   "id": "8b1824ea-a286-4b2c-b0d6-fa0cb6790e04",
   "metadata": {},
   "source": [
    "# Testing Menu Navigation"
   ]
  },
  {
   "cell_type": "code",
   "execution_count": null,
   "id": "ce864c73-75f5-41e3-b115-b91a8794ff5c",
   "metadata": {},
   "outputs": [],
   "source": [
    "from pathlib import Path\n",
    "from datetime import datetime\n",
    "from utils.terminal_stream import TerminalStream\n",
    "from utils.nethackboost import NetHackBoost\n",
    "from utils.nle_metrics import NetHackMetricsEnv\n",
    "import pandas as pd\n",
    "import matplotlib.pyplot as plt\n",
    "from collections import namedtuple\n",
    "import random\n",
    "import sys\n",
    "import numpy as np\n",
    "import re\n",
    "import string\n",
    "import gym"
   ]
  },
  {
   "cell_type": "code",
   "execution_count": null,
   "id": "e1608324-7705-4d00-98a0-02dd243bee5f",
   "metadata": {},
   "outputs": [],
   "source": [
    "g = NetHackMetricsEnv('choppa')\n",
    "obs = g.reset()"
   ]
  },
  {
   "cell_type": "code",
   "execution_count": null,
   "id": "0afc885f-a3f1-4d42-bad3-e77d9cca504a",
   "metadata": {},
   "outputs": [],
   "source": [
    "obs, reward, done, info = g.step(15)"
   ]
  },
  {
   "cell_type": "code",
   "execution_count": null,
   "id": "1a6817c5-1aaf-461a-9588-2de3725ac416",
   "metadata": {},
   "outputs": [],
   "source": [
    "obs"
   ]
  },
  {
   "cell_type": "code",
   "execution_count": null,
   "id": "8e3fd0ea-4d6b-4e90-a487-a1e331a23607",
   "metadata": {},
   "outputs": [],
   "source": [
    "def expand_alpha_ranges(msg):\n",
    "    while '-' in msg:\n",
    "        range_start = msg.find('-') - 1\n",
    "        range_end = range_start + 2\n",
    "        msg = msg[:range_start] + string.ascii_letters[string.ascii_letters.index(msg[range_start]):string.ascii_letters.index(msg[range_end])] + msg[range_end:]\n",
    "    return msg"
   ]
  },
  {
   "cell_type": "code",
   "execution_count": null,
   "id": "b068ac04-e0fe-4db7-b1ff-c16a5790cf9b",
   "metadata": {},
   "outputs": [],
   "source": [
    "len(NetHackBoost.COMPASS_ACTIONS) + len(NetHackBoost.MISC_ACTIONS)"
   ]
  },
  {
   "cell_type": "code",
   "execution_count": null,
   "id": "008f6c23-5001-4f15-9e29-5a67961af51a",
   "metadata": {},
   "outputs": [],
   "source": [
    "g.render()"
   ]
  },
  {
   "cell_type": "code",
   "execution_count": null,
   "id": "3bde6307-125e-447e-b433-0d1a6aa0bec7",
   "metadata": {},
   "outputs": [],
   "source": [
    "print(g.get_unicode_from_bytes(obs['tty_chars'][1:22,40:]))"
   ]
  },
  {
   "cell_type": "markdown",
   "id": "5accb88e-687e-4e74-b8c7-44620268690b",
   "metadata": {},
   "source": [
    "                                                                Pick up what?\n",
    "\n",
    "                                -----  ######################## Amulets\n",
    "                                |...|                    ------ a - a triangular amulet\n",
    "                                .@..-#                   ...... Comestibles\n",
    "                                |...|#    ---------      |..... b - 6 uncursed apples\n",
    "                                |...|#### ........|####  |..... c - 3 uncursed food rations\n",
    "                                |...|# #  |.......|   ###-..... d - 3 uncursed fortune cookies\n",
    "                                |>..|  ###|.......-###   |..... e - 5 uncursed oranges\n",
    "                                -----    #........|  `###|..... Potions\n",
    "                                          |.......-##   #------ f - 3 uncursed potions of healing\n",
    "                                          --------- ##  #       (end)\n",
    "                                                     `####       #\n",
    "                                                                ##\n",
    "                                                               #####\n",
    "                                                              # #--.-.----\n",
    "                                                              `##........|\n",
    "                                                                #|....<..|\n",
    "                                                                #-.......|\n",
    "                                                                 ---------\n",
    "\n",
    "\n",
    "Eduardo the Candidate         St:16 Dx:16 Co:11 In:10 Wi:15 Ch:7 Chaotic\n",
    "Dlvl:1   $:5 HP:11(14) Pw:5(5) AC:4 Xp:1\n",
    "\n",
    "\n",
    "\n",
    "\n",
    "\n",
    "\n"
   ]
  },
  {
   "cell_type": "code",
   "execution_count": null,
   "id": "0fa03372-57ed-4bc2-8b36-8e6ffa94a10d",
   "metadata": {},
   "outputs": [],
   "source": [
    "from nle.nethack import Command\n",
    "from utils.nethackboost import NetHackBoost"
   ]
  },
  {
   "cell_type": "code",
   "execution_count": null,
   "id": "fd056786-6e4c-426d-bef8-5c2cdc2536e7",
   "metadata": {},
   "outputs": [],
   "source": [
    "def mask_menu_items(mask, menu):\n",
    "    # get the menu items\n",
    "    menu_char_vals = [ord(x) for x in menu]\n",
    "    raw_keys_index = [NetHackBoost.RAW_KEY_ACTIONS.index(x) for x in menu_char_vals]\n",
    "    # Shift indices over\n",
    "    menu_keys_index = np.array(raw_keys_index) + len(NetHackBoost.REDUCED_ACTIONS)\n",
    "    # set all commands to 0\n",
    "    mask[:] = 0\n",
    "    # set menu keys back to 1\n",
    "    mask[menu_keys_index] = 1\n",
    "    # Now add in space + ESC\n",
    "    mask[[NetHackBoost.REDUCED_ACTIONS.index(ord(' ')), NetHackBoost.REDUCED_ACTIONS.index(Command.ESC)]] = 1\n",
    "    # return\n",
    "    return mask"
   ]
  },
  {
   "cell_type": "code",
   "execution_count": null,
   "id": "720bb77e-9308-428e-a88d-d5b8005720c3",
   "metadata": {},
   "outputs": [],
   "source": [
    "mask = np.ones(len(NetHackBoost.REDUCED_ACTIONS_WITH_MENU))\n",
    "mask_menu_items(mask, menumsg)"
   ]
  },
  {
   "cell_type": "code",
   "execution_count": null,
   "id": "3c69ed2e-5c36-401b-9aef-c8be5eef6f4f",
   "metadata": {},
   "outputs": [],
   "source": [
    "msg = \"\"\"\n",
    "                                                                Pick up what?\n",
    "\n",
    "                                -----  ######################## Amulets\n",
    "                                |...|                    ------ a - a triangular amulet\n",
    "                                .@..-#                   ...... Comestibles\n",
    "                                |...|#    ---------      |..... b - 6 uncursed apples\n",
    "                                |...|#### ........|####  |..... c - 3 uncursed food rations\n",
    "                                |...|# #  |.......|   ###-..... d - 3 uncursed fortune cookies\n",
    "                                |>..|  ###|.......-###   |..... e - 5 uncursed oranges\n",
    "                                -----    #........|  `###|..... Potions\n",
    "                                          |.......-##   #------ f - 3 uncursed potions of healing\n",
    "                                          --------- ##  #       (end)\n",
    "                                                     `####       #\n",
    "                                                                ##\n",
    "                                                               #####\n",
    "                                                              # #--.-.----\n",
    "                                                              `##........|\n",
    "                                                                #|....<..|\n",
    "                                                                #-.......|\n",
    "                                                                 ---------\n",
    "\n",
    "\n",
    "Eduardo the Candidate         St:16 Dx:16 Co:11 In:10 Wi:15 Ch:7 Chaotic\n",
    "Dlvl:1   $:5 HP:11(14) Pw:5(5) AC:4 Xp:1\n",
    "\"\"\""
   ]
  },
  {
   "cell_type": "code",
   "execution_count": null,
   "id": "03578549-247c-45ab-8a81-285fde096342",
   "metadata": {},
   "outputs": [],
   "source": [
    "msg2 = \"\"\"\n",
    "\n",
    "\n",
    "                                -----  ###########################\n",
    "                                |...|                    --------#\n",
    "                                .@..-#                   .......|#\n",
    "                                |...|#    ---------      |......|#\n",
    "                                |...|#### ........|####  |......|#\n",
    "                                |...|# #  |.......|   ###-.......#\n",
    "                                |>..|  ###|.......-###   |......|#          .|\n",
    "                                -----    #........|  `###|......|##   .......|\n",
    "                                          |.......-##   #--------#      ------\n",
    "                                          --------- ##  #        #\n",
    "                                                     `####       #\n",
    "                                                                ##\n",
    "                                                               #####\n",
    "                                                              # #--.-.----\n",
    "                                                              `##........|\n",
    "                                                                #|....<..|\n",
    "                                                                #-.......|\n",
    "                                                                 ---------\n",
    "\n",
    "\n",
    "Eduardo the Candidate         St:16 Dx:16 Co:11 In:10 Wi:15 Ch:7 Chaotic\n",
    "Dlvl:1   $:5 HP:12(14) Pw:5(5) AC:4 Xp:1\n",
    "\n",
    "\n",
    "\"\"\""
   ]
  },
  {
   "cell_type": "markdown",
   "id": "9a43d6da-4a43-4636-a802-cad819dec954",
   "metadata": {},
   "source": [
    "# Testing Custom-Agent"
   ]
  },
  {
   "cell_type": "code",
   "execution_count": 1,
   "id": "c8f2e641-1d82-4212-846f-5ab3eeb357f1",
   "metadata": {},
   "outputs": [],
   "source": [
    "from custom_agent import SimpleMain"
   ]
  },
  {
   "cell_type": "code",
   "execution_count": 2,
   "id": "68972920-4930-4517-b876-6aa27f2a1dcc",
   "metadata": {},
   "outputs": [
    {
     "name": "stderr",
     "output_type": "stream",
     "text": [
      "[INFO:12614 custom_agent:425 2021-12-02 18:13:12,705] Logging results to /home/eduardo/torchbeast/torchbeast-20211202-181312\n",
      "[INFO:12614 custom_agent:433 2021-12-02 18:13:12,708] Symlinked log directory: /home/eduardo/torchbeast/latest\n",
      "[INFO:12614 custom_agent:454 2021-12-02 18:13:12,805] Using CUDA.\n",
      "[INFO:12614 base:279 2021-12-02 18:13:12,806] Not saving any NLE data.\n",
      "[INFO:12632 custom_agent:180 2021-12-02 18:13:13,243] Actor 0 started.\n",
      "[INFO:12632 base:279 2021-12-02 18:13:13,250] Not saving any NLE data.\n",
      "[INFO:12635 custom_agent:180 2021-12-02 18:13:13,250] Actor 1 started.\n",
      "[INFO:12635 base:279 2021-12-02 18:13:13,258] Not saving any NLE data.\n",
      "[INFO:12640 base:279 2021-12-02 18:13:13,268] Not saving any NLE data.\n",
      "[INFO:12640 custom_agent:180 2021-12-02 18:13:13,260] Actor 2 started.\n",
      "[INFO:12645 custom_agent:180 2021-12-02 18:13:13,271] Actor 3 started.\n",
      "[INFO:12645 base:279 2021-12-02 18:13:13,275] Not saving any NLE data.\n",
      "[INFO:12614 custom_agent:594 2021-12-02 18:13:24,908] Steps 640 @ 127.9 SPS. Loss -18.945089. Stats:\n",
      "{'baseline_loss': 0.010221770033240318,\n",
      " 'entropy_loss': -1.4700640439987183,\n",
      " 'episode_returns': (),\n",
      " 'mean_episode_return': nan,\n",
      " 'pg_loss': -17.485246658325195,\n",
      " 'total_loss': -18.94508934020996}\n",
      "[INFO:12614 custom_agent:594 2021-12-02 18:13:29,915] Steps 2560 @ 383.6 SPS. Loss 4.725236. Stats:\n",
      "{'baseline_loss': 0.00172692839987576,\n",
      " 'entropy_loss': -1.4700675010681152,\n",
      " 'episode_returns': (),\n",
      " 'mean_episode_return': nan,\n",
      " 'pg_loss': 6.193576812744141,\n",
      " 'total_loss': 4.725236415863037}\n",
      "[INFO:12614 custom_agent:594 2021-12-02 18:13:34,922] Steps 4480 @ 383.6 SPS. Loss -2.890636. Stats:\n",
      "{'baseline_loss': 6.710741581628099e-05,\n",
      " 'entropy_loss': -1.4700651168823242,\n",
      " 'episode_returns': (),\n",
      " 'mean_episode_return': nan,\n",
      " 'pg_loss': -1.4206382036209106,\n",
      " 'total_loss': -2.8906362056732178}\n",
      "[INFO:12614 custom_agent:594 2021-12-02 18:13:39,925] Steps 5760 @ 256.0 SPS. Loss -3.476408. Stats:\n",
      "{'baseline_loss': 0.00013409994426183403,\n",
      " 'entropy_loss': -1.4700647592544556,\n",
      " 'episode_returns': (),\n",
      " 'mean_episode_return': nan,\n",
      " 'pg_loss': -2.0064778327941895,\n",
      " 'total_loss': -3.4764084815979004}\n",
      "[INFO:12614 custom_agent:594 2021-12-02 18:13:44,931] Steps 7680 @ 383.6 SPS. Loss -1.017746. Stats:\n",
      "{'baseline_loss': 9.554489224683493e-06,\n",
      " 'entropy_loss': -1.470068097114563,\n",
      " 'episode_returns': (),\n",
      " 'mean_episode_return': nan,\n",
      " 'pg_loss': 0.452312707901001,\n",
      " 'total_loss': -1.017745852470398}\n",
      "[INFO:12614 custom_agent:594 2021-12-02 18:13:49,938] Steps 9600 @ 383.6 SPS. Loss -30.667103. Stats:\n",
      "{'baseline_loss': 0.028190014883875847,\n",
      " 'entropy_loss': -1.470055103302002,\n",
      " 'episode_returns': (),\n",
      " 'mean_episode_return': nan,\n",
      " 'pg_loss': -29.225238800048828,\n",
      " 'total_loss': -30.667102813720703}\n",
      "[INFO:12614 custom_agent:594 2021-12-02 18:13:54,945] Steps 10880 @ 255.7 SPS. Loss -29.663038. Stats:\n",
      "{'baseline_loss': 0.026694104075431824,\n",
      " 'entropy_loss': -1.4700547456741333,\n",
      " 'episode_returns': (),\n",
      " 'mean_episode_return': nan,\n",
      " 'pg_loss': -28.219676971435547,\n",
      " 'total_loss': -29.66303825378418}\n",
      "[INFO:12614 custom_agent:608 2021-12-02 18:13:54,947] Learning finished after 10880 steps.\n"
     ]
    }
   ],
   "source": [
    "SimpleMain(\n",
    "    env='TI2',\n",
    "    total_steps=10000, \n",
    "    disable_checkpoint=True,\n",
    "    num_actors=4,\n",
    "    use_lstm=True,\n",
    ")"
   ]
  },
  {
   "cell_type": "code",
   "execution_count": null,
   "id": "be88d054-ad74-4db7-bfb2-3e83f8df678b",
   "metadata": {},
   "outputs": [],
   "source": []
  }
 ],
 "metadata": {
  "kernelspec": {
   "display_name": "Python 3",
   "language": "python",
   "name": "python3"
  },
  "language_info": {
   "codemirror_mode": {
    "name": "ipython",
    "version": 3
   },
   "file_extension": ".py",
   "mimetype": "text/x-python",
   "name": "python",
   "nbconvert_exporter": "python",
   "pygments_lexer": "ipython3",
   "version": "3.9.7"
  }
 },
 "nbformat": 4,
 "nbformat_minor": 5
}
