{
 "cells": [
  {
   "cell_type": "markdown",
   "id": "9e791d82-1179-42d9-a902-5e300ea5fd3c",
   "metadata": {
    "tags": []
   },
   "source": [
    "# Imports needed for DQN"
   ]
  },
  {
   "cell_type": "code",
   "execution_count": 1,
   "id": "c3152b05-ea41-48d6-ae39-8f31a47d7a81",
   "metadata": {
    "tags": []
   },
   "outputs": [
    {
     "name": "stdout",
     "output_type": "stream",
     "text": [
      "cuda\n"
     ]
    }
   ],
   "source": [
    "\"\"\"\n",
    "Import Statements: From PyTorch RL Tutorial\n",
    "Unchanged code from Milestone\n",
    "\"\"\"\n",
    "import gym\n",
    "import math\n",
    "import random\n",
    "import numpy as np\n",
    "from itertools import count\n",
    "from PIL import Image\n",
    "import torch\n",
    "import torch.nn as nn\n",
    "import torch.optim as optim\n",
    "import torch.nn.functional as F\n",
    "import nle\n",
    "from collections import namedtuple, deque\n",
    "\n",
    "# if gpu is to be used\n",
    "device = torch.device(\"cuda\" if torch.cuda.is_available() else \"cpu\")\n",
    "print(device)"
   ]
  },
  {
   "cell_type": "code",
   "execution_count": 15,
   "id": "04e05fdb-bae6-493f-9839-81679888acc3",
   "metadata": {},
   "outputs": [
    {
     "data": {
      "text/plain": [
       "1"
      ]
     },
     "execution_count": 15,
     "metadata": {},
     "output_type": "execute_result"
    }
   ],
   "source": [
    "0 if 2 != 2 else 1"
   ]
  },
  {
   "cell_type": "code",
   "execution_count": 21,
   "id": "f0d9831c-da8b-456d-b20c-14b20e0e3cbe",
   "metadata": {},
   "outputs": [
    {
     "name": "stdout",
     "output_type": "stream",
     "text": [
      "seed\n",
      "is_test_seed\n"
     ]
    }
   ],
   "source": [
    "a, b = x.seed_csv[x.seed_csv.is_test_seed == x.test_mode].sample(2)"
   ]
  },
  {
   "cell_type": "code",
   "execution_count": 18,
   "id": "3278eb27-fb8d-4114-9bed-f94a11d20683",
   "metadata": {},
   "outputs": [
    {
     "ename": "TypeError",
     "evalue": "set_initial_seeds(): incompatible function arguments. The following argument types are supported:\n    1. (self: nle._pynethack.Nethack, arg0: int, arg1: int, arg2: bool) -> None\n\nInvoked with: <nle._pynethack.Nethack object at 0x7fad8ef708f0>, 'seed', 'is_test_seed', False",
     "output_type": "error",
     "traceback": [
      "\u001b[0;31m---------------------------------------------------------------------------\u001b[0m",
      "\u001b[0;31mTypeError\u001b[0m                                 Traceback (most recent call last)",
      "\u001b[0;32m/tmp/ipykernel_683156/981695107.py\u001b[0m in \u001b[0;36m<module>\u001b[0;34m\u001b[0m\n\u001b[0;32m----> 1\u001b[0;31m \u001b[0mobs\u001b[0m \u001b[0;34m=\u001b[0m \u001b[0mx\u001b[0m\u001b[0;34m.\u001b[0m\u001b[0mreset\u001b[0m\u001b[0;34m(\u001b[0m\u001b[0;34m)\u001b[0m\u001b[0;34m\u001b[0m\u001b[0;34m\u001b[0m\u001b[0m\n\u001b[0m\u001b[1;32m      2\u001b[0m \u001b[0mobs\u001b[0m\u001b[0;34m\u001b[0m\u001b[0;34m\u001b[0m\u001b[0m\n",
      "\u001b[0;32m~/Documents/cs230-deep-hack/utils/nle_metrics.py\u001b[0m in \u001b[0;36mreset\u001b[0;34m(self, new_episode_name)\u001b[0m\n\u001b[1;32m     63\u001b[0m         \u001b[0;31m# if no new episode name is passed in, use time info\u001b[0m\u001b[0;34m\u001b[0m\u001b[0;34m\u001b[0m\u001b[0m\n\u001b[1;32m     64\u001b[0m         \u001b[0;32mif\u001b[0m \u001b[0mnew_episode_name\u001b[0m \u001b[0;32mis\u001b[0m \u001b[0;32mNone\u001b[0m\u001b[0;34m:\u001b[0m\u001b[0;34m\u001b[0m\u001b[0;34m\u001b[0m\u001b[0m\n\u001b[0;32m---> 65\u001b[0;31m             \u001b[0mnew_episode_name\u001b[0m \u001b[0;34m=\u001b[0m \u001b[0mdatetime\u001b[0m\u001b[0;34m.\u001b[0m\u001b[0mnow\u001b[0m\u001b[0;34m(\u001b[0m\u001b[0;34m)\u001b[0m\u001b[0;34m.\u001b[0m\u001b[0mstrftime\u001b[0m\u001b[0;34m(\u001b[0m\u001b[0;34m'%f%M%S'\u001b[0m\u001b[0;34m)\u001b[0m\u001b[0;34m\u001b[0m\u001b[0;34m\u001b[0m\u001b[0m\n\u001b[0m\u001b[1;32m     66\u001b[0m         \u001b[0;32mreturn\u001b[0m \u001b[0mself\u001b[0m\u001b[0;34m.\u001b[0m\u001b[0mstart\u001b[0m\u001b[0;34m(\u001b[0m\u001b[0mnew_episode_name\u001b[0m\u001b[0;34m)\u001b[0m\u001b[0;34m\u001b[0m\u001b[0;34m\u001b[0m\u001b[0m\n\u001b[1;32m     67\u001b[0m \u001b[0;34m\u001b[0m\u001b[0m\n",
      "\u001b[0;32m~/Documents/cs230-deep-hack/utils/nle_metrics.py\u001b[0m in \u001b[0;36mstart\u001b[0;34m(self, new_episode_name)\u001b[0m\n\u001b[1;32m     72\u001b[0m         \u001b[0;31m# sample from seeds, depending on truth value of test mode\u001b[0m\u001b[0;34m\u001b[0m\u001b[0;34m\u001b[0m\u001b[0m\n\u001b[1;32m     73\u001b[0m         \u001b[0mcore_seed\u001b[0m\u001b[0;34m,\u001b[0m \u001b[0mdisp_seed\u001b[0m \u001b[0;34m=\u001b[0m \u001b[0mself\u001b[0m\u001b[0;34m.\u001b[0m\u001b[0mseed_csv\u001b[0m\u001b[0;34m[\u001b[0m\u001b[0mself\u001b[0m\u001b[0;34m.\u001b[0m\u001b[0mseed_csv\u001b[0m\u001b[0;34m.\u001b[0m\u001b[0mis_test_seed\u001b[0m \u001b[0;34m==\u001b[0m \u001b[0mself\u001b[0m\u001b[0;34m.\u001b[0m\u001b[0mtest_mode\u001b[0m\u001b[0;34m]\u001b[0m\u001b[0;34m.\u001b[0m\u001b[0msample\u001b[0m\u001b[0;34m(\u001b[0m\u001b[0;36m2\u001b[0m\u001b[0;34m)\u001b[0m\u001b[0;34m\u001b[0m\u001b[0;34m\u001b[0m\u001b[0m\n\u001b[0;32m---> 74\u001b[0;31m         \u001b[0;31m# set underlying environment\u001b[0m\u001b[0;34m\u001b[0m\u001b[0;34m\u001b[0m\u001b[0m\n\u001b[0m\u001b[1;32m     75\u001b[0m         \u001b[0mself\u001b[0m\u001b[0;34m.\u001b[0m\u001b[0menv\u001b[0m\u001b[0;34m.\u001b[0m\u001b[0mseed\u001b[0m\u001b[0;34m(\u001b[0m\u001b[0mcore\u001b[0m\u001b[0;34m=\u001b[0m\u001b[0mcore_seed\u001b[0m\u001b[0;34m,\u001b[0m \u001b[0mdisp\u001b[0m\u001b[0;34m=\u001b[0m\u001b[0mdisp_seed\u001b[0m\u001b[0;34m)\u001b[0m\u001b[0;34m\u001b[0m\u001b[0;34m\u001b[0m\u001b[0m\n\u001b[1;32m     76\u001b[0m         \u001b[0;31m# now save those seeds to instance for a bit till finish called\u001b[0m\u001b[0;34m\u001b[0m\u001b[0;34m\u001b[0m\u001b[0m\n",
      "\u001b[0;32m~/anaconda3/envs/snowbunnies/lib/python3.9/site-packages/nle/env/base.py\u001b[0m in \u001b[0;36mseed\u001b[0;34m(self, core, disp, reseed)\u001b[0m\n\u001b[1;32m    531\u001b[0m         \u001b[0;32mif\u001b[0m \u001b[0mdisp\u001b[0m \u001b[0;32mis\u001b[0m \u001b[0;32mNone\u001b[0m\u001b[0;34m:\u001b[0m\u001b[0;34m\u001b[0m\u001b[0;34m\u001b[0m\u001b[0m\n\u001b[1;32m    532\u001b[0m             \u001b[0mdisp\u001b[0m \u001b[0;34m=\u001b[0m \u001b[0mself\u001b[0m\u001b[0;34m.\u001b[0m\u001b[0m_random\u001b[0m\u001b[0;34m.\u001b[0m\u001b[0mrandrange\u001b[0m\u001b[0;34m(\u001b[0m\u001b[0msys\u001b[0m\u001b[0;34m.\u001b[0m\u001b[0mmaxsize\u001b[0m\u001b[0;34m)\u001b[0m\u001b[0;34m\u001b[0m\u001b[0;34m\u001b[0m\u001b[0m\n\u001b[0;32m--> 533\u001b[0;31m         \u001b[0mself\u001b[0m\u001b[0;34m.\u001b[0m\u001b[0menv\u001b[0m\u001b[0;34m.\u001b[0m\u001b[0mset_initial_seeds\u001b[0m\u001b[0;34m(\u001b[0m\u001b[0mcore\u001b[0m\u001b[0;34m,\u001b[0m \u001b[0mdisp\u001b[0m\u001b[0;34m,\u001b[0m \u001b[0mreseed\u001b[0m\u001b[0;34m)\u001b[0m\u001b[0;34m\u001b[0m\u001b[0;34m\u001b[0m\u001b[0m\n\u001b[0m\u001b[1;32m    534\u001b[0m         \u001b[0;32mreturn\u001b[0m \u001b[0;34m(\u001b[0m\u001b[0mcore\u001b[0m\u001b[0;34m,\u001b[0m \u001b[0mdisp\u001b[0m\u001b[0;34m,\u001b[0m \u001b[0mreseed\u001b[0m\u001b[0;34m)\u001b[0m\u001b[0;34m\u001b[0m\u001b[0;34m\u001b[0m\u001b[0m\n\u001b[1;32m    535\u001b[0m \u001b[0;34m\u001b[0m\u001b[0m\n",
      "\u001b[0;32m~/anaconda3/envs/snowbunnies/lib/python3.9/site-packages/nle/nethack/nethack.py\u001b[0m in \u001b[0;36mset_initial_seeds\u001b[0;34m(self, core, disp, reseed)\u001b[0m\n\u001b[1;32m    189\u001b[0m \u001b[0;34m\u001b[0m\u001b[0m\n\u001b[1;32m    190\u001b[0m     \u001b[0;32mdef\u001b[0m \u001b[0mset_initial_seeds\u001b[0m\u001b[0;34m(\u001b[0m\u001b[0mself\u001b[0m\u001b[0;34m,\u001b[0m \u001b[0mcore\u001b[0m\u001b[0;34m,\u001b[0m \u001b[0mdisp\u001b[0m\u001b[0;34m,\u001b[0m \u001b[0mreseed\u001b[0m\u001b[0;34m=\u001b[0m\u001b[0;32mFalse\u001b[0m\u001b[0;34m)\u001b[0m\u001b[0;34m:\u001b[0m\u001b[0;34m\u001b[0m\u001b[0;34m\u001b[0m\u001b[0m\n\u001b[0;32m--> 191\u001b[0;31m         \u001b[0mself\u001b[0m\u001b[0;34m.\u001b[0m\u001b[0m_pynethack\u001b[0m\u001b[0;34m.\u001b[0m\u001b[0mset_initial_seeds\u001b[0m\u001b[0;34m(\u001b[0m\u001b[0mcore\u001b[0m\u001b[0;34m,\u001b[0m \u001b[0mdisp\u001b[0m\u001b[0;34m,\u001b[0m \u001b[0mreseed\u001b[0m\u001b[0;34m)\u001b[0m\u001b[0;34m\u001b[0m\u001b[0;34m\u001b[0m\u001b[0m\n\u001b[0m\u001b[1;32m    192\u001b[0m \u001b[0;34m\u001b[0m\u001b[0m\n\u001b[1;32m    193\u001b[0m     \u001b[0;32mdef\u001b[0m \u001b[0mset_current_seeds\u001b[0m\u001b[0;34m(\u001b[0m\u001b[0mself\u001b[0m\u001b[0;34m,\u001b[0m \u001b[0mcore\u001b[0m\u001b[0;34m=\u001b[0m\u001b[0;32mNone\u001b[0m\u001b[0;34m,\u001b[0m \u001b[0mdisp\u001b[0m\u001b[0;34m=\u001b[0m\u001b[0;32mNone\u001b[0m\u001b[0;34m,\u001b[0m \u001b[0mreseed\u001b[0m\u001b[0;34m=\u001b[0m\u001b[0;32mFalse\u001b[0m\u001b[0;34m)\u001b[0m\u001b[0;34m:\u001b[0m\u001b[0;34m\u001b[0m\u001b[0;34m\u001b[0m\u001b[0m\n",
      "\u001b[0;31mTypeError\u001b[0m: set_initial_seeds(): incompatible function arguments. The following argument types are supported:\n    1. (self: nle._pynethack.Nethack, arg0: int, arg1: int, arg2: bool) -> None\n\nInvoked with: <nle._pynethack.Nethack object at 0x7fad8ef708f0>, 'seed', 'is_test_seed', False"
     ]
    }
   ],
   "source": [
    "obs = x.reset()\n",
    "obs"
   ]
  },
  {
   "cell_type": "markdown",
   "id": "966c7dc8-ac35-46aa-bdaa-840d59222598",
   "metadata": {
    "tags": []
   },
   "source": [
    "# Internal Imports & Setup"
   ]
  },
  {
   "cell_type": "code",
   "execution_count": 16,
   "id": "5e12e18e-c8b5-4848-8745-cf17d4948a6b",
   "metadata": {},
   "outputs": [],
   "source": [
    "from utils.terminal_stream import TerminalStream\n",
    "from utils.nle_metrics import NetHackMetricsEnv"
   ]
  },
  {
   "cell_type": "code",
   "execution_count": 3,
   "id": "277cb064-9b4d-4087-945b-d57fcd5f2885",
   "metadata": {},
   "outputs": [
    {
     "name": "stdout",
     "output_type": "stream",
     "text": [
      "Warning: tty_render function not found in nle.nethack. Searching in nle.env.base.\n"
     ]
    }
   ],
   "source": [
    "x = NetHackMetricsEnv('1')"
   ]
  },
  {
   "cell_type": "code",
   "execution_count": 13,
   "id": "2b66495a-96cf-44b7-bcad-6b7827b3d78a",
   "metadata": {},
   "outputs": [
    {
     "data": {
      "text/plain": [
       "(<CompassDirection.N: 107>,\n",
       " <CompassDirection.E: 108>,\n",
       " <CompassDirection.S: 106>,\n",
       " <CompassDirection.W: 104>,\n",
       " <CompassDirection.NE: 117>,\n",
       " <CompassDirection.SE: 110>,\n",
       " <CompassDirection.SW: 98>,\n",
       " <CompassDirection.NW: 121>,\n",
       " <MiscDirection.UP: 60>,\n",
       " <MiscDirection.DOWN: 62>,\n",
       " <MiscDirection.WAIT: 46>,\n",
       " <Command.APPLY: 97>,\n",
       " <Command.CAST: 90>,\n",
       " <Command.CLOSE: 99>,\n",
       " <Command.DIP: 228>,\n",
       " <Command.DROP: 100>,\n",
       " <Command.EAT: 101>,\n",
       " <Command.ESC: 27>,\n",
       " <Command.FIRE: 102>,\n",
       " <Command.FORCE: 230>,\n",
       " <Command.INVOKE: 233>,\n",
       " <Command.KICK: 4>,\n",
       " <Command.LOOT: 236>,\n",
       " <Command.OFFER: 239>,\n",
       " <Command.OPEN: 111>,\n",
       " <Command.PAY: 112>,\n",
       " <Command.PICKUP: 44>,\n",
       " <Command.PRAY: 240>,\n",
       " <Command.PUTON: 80>,\n",
       " <Command.QUAFF: 113>,\n",
       " <Command.QUIVER: 81>,\n",
       " <Command.READ: 114>,\n",
       " <Command.REMOVE: 82>,\n",
       " <Command.RIDE: 210>,\n",
       " <Command.RUB: 242>,\n",
       " <Command.SEARCH: 115>,\n",
       " <Command.TAKEOFF: 84>,\n",
       " <Command.THROW: 116>,\n",
       " <Command.TIP: 212>,\n",
       " <Command.UNTRAP: 245>,\n",
       " <Command.WEAR: 87>,\n",
       " <Command.WIELD: 119>,\n",
       " <Command.WIPE: 247>,\n",
       " <Command.ZAP: 122>,\n",
       " <TextCharacters.SPACE: 32>)"
      ]
     },
     "execution_count": 13,
     "metadata": {},
     "output_type": "execute_result"
    }
   ],
   "source": [
    "x.env._actions"
   ]
  },
  {
   "cell_type": "markdown",
   "id": "1b3ace18-95ee-4170-bd20-0f3d6d93a5ee",
   "metadata": {},
   "source": [
    "# Experiance Class\n",
    "## Used to store a state into a queue (As Memory)"
   ]
  },
  {
   "cell_type": "code",
   "execution_count": null,
   "id": "7ed681f1-946b-43d7-8501-5cf8559333f5",
   "metadata": {},
   "outputs": [],
   "source": [
    "StateTransition = namedtuple('Transition',\n",
    "                        ('state', 'action', 'next_state', 'reward'))"
   ]
  },
  {
   "cell_type": "code",
   "execution_count": null,
   "id": "a812f967-c70f-44ff-b1ff-5039839ba27f",
   "metadata": {},
   "outputs": [],
   "source": [
    "\"\"\"\n",
    "This model stores replays of memories as a whole. It also holds the full set, and manages removing old memories.\n",
    "From PyTorch DQN Tutorial\n",
    "\"\"\"\n",
    "class ReplayMemory():\n",
    "    def __init__(self, max_memory):\n",
    "        self.memory = deque([], maxlen=max_memory)\n",
    "    \n",
    "    def push(self, *newExp):\n",
    "        self.memory.append(StateTransition(*newExp))\n",
    "    \n",
    "    def sample(self, batch_size):\n",
    "        return random.sample(self.memory, batch_size)\n",
    "    \n",
    "    def __len__(self):\n",
    "        return len(self.memory)"
   ]
  },
  {
   "cell_type": "markdown",
   "id": "e3e1b5f2-bf3b-4eee-8cfe-392f008bdf45",
   "metadata": {},
   "source": [
    "# DQN Model, with two Conv2d layers\n",
    "## Takes the input provided by the dictionary in state"
   ]
  },
  {
   "cell_type": "code",
   "execution_count": null,
   "id": "3d86cfce-7013-4876-9048-3682f4383e37",
   "metadata": {},
   "outputs": [],
   "source": [
    "\"\"\"\n",
    "DQN implementation, with convolutional layers, max pooling implemented.\n",
    "\"\"\"\n",
    "class DQNetwork(nn.Module):\n",
    "    def __init__(self, out_nodes):\n",
    "        super(DQNetwork, self).__init__()\n",
    "        self.joe = nn.Sequential(\n",
    "            nn.Conv2d(4, 16, kernel_size=3, padding='same'),\n",
    "            nn.ReLU(), # 21 * 79 * 16\n",
    "            nn.MaxPool2d(3, padding=(0,1)), # 7 * 27 * 16\n",
    "            nn.Conv2d(16, 64, kernel_size=3, padding='same'),# 7 * 27 * 64\n",
    "            nn.ReLU(),\n",
    "            nn.MaxPool2d(3, padding=(1,0)), # 3 * 9 * 64\n",
    "            nn.Flatten(),\n",
    "            nn.Linear(3*9*64, 3*64),\n",
    "            nn.ReLU(),\n",
    "            # Hard coded activation layer\n",
    "            nn.Linear(3*64, out_nodes),\n",
    "        )\n",
    "        \n",
    "    def forward(self, x):\n",
    "        logits = self.joe(x.float())\n",
    "        return logits"
   ]
  },
  {
   "cell_type": "markdown",
   "id": "650e198b-7864-460b-83a6-82c8edf5c18e",
   "metadata": {
    "tags": []
   },
   "source": [
    "# Train"
   ]
  },
  {
   "cell_type": "code",
   "execution_count": null,
   "id": "e8c8cb6c-814b-4158-86a1-0a2c3e67e516",
   "metadata": {},
   "outputs": [],
   "source": [
    "env = NetHackMetricsEnv('DQN-Base')"
   ]
  },
  {
   "cell_type": "code",
   "execution_count": null,
   "id": "3ca06b4e-d88d-4337-b7c0-206af1aed284",
   "metadata": {},
   "outputs": [],
   "source": [
    "BATCH_SIZE = 128\n",
    "GAMMA = 0.999\n",
    "EPS_START = 0.9\n",
    "EPS_END = 0.05\n",
    "EPS_DECAY = 200\n",
    "TARGET_UPDATE = 10\n",
    "steps_done = 0\n",
    "episode_durations = []\n",
    "n_actions = env.action_space_size"
   ]
  },
  {
   "cell_type": "code",
   "execution_count": null,
   "id": "83cea590-47b5-4877-8221-2da09dd176c5",
   "metadata": {},
   "outputs": [],
   "source": [
    "policy_net = DQNetwork(n_actions).to(device)\n",
    "target_net = DQNetwork(n_actions).to(device)\n",
    "target_net.load_state_dict(policy_net.state_dict())\n",
    "target_net.eval()\n",
    "optimizer = optim.RMSprop(policy_net.parameters())\n",
    "memory = ReplayMemory(10000)"
   ]
  },
  {
   "cell_type": "code",
   "execution_count": null,
   "id": "b286d76a-a79f-41a5-ad74-aed2db2f37b5",
   "metadata": {},
   "outputs": [],
   "source": [
    "def select_action(state):\n",
    "    global steps_done\n",
    "    sample = random.random()\n",
    "    eps_threshold = EPS_END + (EPS_START - EPS_END) * \\\n",
    "        math.exp(-1. * steps_done / EPS_DECAY)\n",
    "    steps_done += 1\n",
    "    if sample > eps_threshold:\n",
    "        with torch.no_grad():\n",
    "            # t.max(1) will return largest column value of each row.\n",
    "            # second column on max result is index of where max element was\n",
    "            # found, so we pick action with the larger expected reward.\n",
    "            return policy_net(state).max(1)[1].view(1, 1)\n",
    "    else:\n",
    "        return torch.tensor([[random.randrange(n_actions)]], device=device, dtype=torch.long)"
   ]
  },
  {
   "cell_type": "code",
   "execution_count": null,
   "id": "4893b7d4-05cf-40d6-a194-4574f163eb9b",
   "metadata": {
    "tags": []
   },
   "outputs": [],
   "source": [
    "def optimize_model(iter_num):\n",
    "    if len(memory) < BATCH_SIZE:\n",
    "        return\n",
    "    transitions = memory.sample(BATCH_SIZE)\n",
    "    # Transpose the batch (see https://stackoverflow.com/a/19343/3343043 for\n",
    "    # detailed explanation). This converts batch-array of Transitions\n",
    "    # to Transition of batch-arrays.\n",
    "    batch = StateTransition(*zip(*transitions))\n",
    "\n",
    "    # Compute a mask of non-final states and concatenate the batch elements\n",
    "    # (a final state would've been the one after which simulation ended)\n",
    "    non_final_mask = torch.tensor(tuple(map(lambda s: s is not None,\n",
    "                                          batch.next_state)), device=device, dtype=torch.bool)\n",
    "    non_final_next_states = torch.cat([s for s in batch.next_state\n",
    "                                                if s is not None])\n",
    "    state_batch = torch.cat(batch.state)\n",
    "    action_batch = torch.cat(batch.action)\n",
    "    reward_batch = torch.cat(batch.reward)\n",
    "\n",
    "    # Compute Q(s_t, a) - the model computes Q(s_t), then we select the\n",
    "    # columns of actions taken. These are the actions which would've been taken\n",
    "    # for each batch state according to policy_net\n",
    "    state_action_values = policy_net(state_batch).gather(1, action_batch)\n",
    "\n",
    "    # Compute V(s_{t+1}) for all next states.\n",
    "    # Expected values of actions for non_final_next_states are computed based\n",
    "    # on the \"older\" target_net; selecting their best reward with max(1)[0].\n",
    "    # This is merged based on the mask, such that we'll have either the expected\n",
    "    # state value or 0 in case the state was final.\n",
    "    next_state_values = torch.zeros(BATCH_SIZE, device=device)\n",
    "    next_state_values[non_final_mask] = target_net(non_final_next_states).max(1)[0].detach()\n",
    "    # Compute the expected Q values\n",
    "    expected_state_action_values = (next_state_values * GAMMA) + reward_batch\n",
    "\n",
    "    # Compute Huber loss\n",
    "    criterion = nn.SmoothL1Loss()\n",
    "    loss = criterion(state_action_values, expected_state_action_values.unsqueeze(1))\n",
    "#     if iter_num % 1000 == 0:\n",
    "#         print('Iteration number ' + str(iter_num) + ' loss: ' + str(loss.item()))\n",
    "#         env.render()\n",
    "    \n",
    "    # Optimize the model\n",
    "    optimizer.zero_grad()\n",
    "    loss.backward()\n",
    "    for param in policy_net.parameters():\n",
    "        param.grad.data.clamp_(-1, 1)\n",
    "    optimizer.step()"
   ]
  },
  {
   "cell_type": "markdown",
   "id": "e5184a5d-13d0-4cbf-83b8-2eef9ce24335",
   "metadata": {
    "partialCollapse": true,
    "tags": []
   },
   "source": [
    "# Run the algorithm for a set number of episodes"
   ]
  },
  {
   "cell_type": "code",
   "execution_count": null,
   "id": "6454f706-a866-43cd-a0e9-af2f9916d1c9",
   "metadata": {
    "jupyter": {
     "source_hidden": true
    },
    "tags": []
   },
   "outputs": [],
   "source": [
    "def concat_state(state):\n",
    "    state = np.stack((state['glyphs'], state['chars'], state['colors'], state['specials']))\n",
    "    state = torch.tensor(np.expand_dims(state, axis=0), device=device)\n",
    "    return state\n",
    "\n",
    "# EPISODES\n",
    "num_episodes = 1\n",
    "for i_episode in range(num_episodes):\n",
    "    print('Episode Number: ' + str(i_episode))\n",
    "    # Initialize the environment and state\n",
    "    obs = env.reset()\n",
    "    state = concat_state(obs)\n",
    "    for t in count():\n",
    "        # Select and perform an action\n",
    "        action = select_action(state)\n",
    "        obs, reward, done, _ = env.step(action.item())\n",
    "        reward = torch.tensor([reward], device=device)\n",
    "        \n",
    "        # Keep track of current state and previous states \n",
    "        last_state = state\n",
    "        state = concat_state(obs)\n",
    "\n",
    "        # Store the transition in memory\n",
    "        memory.push(last_state, action, state, reward)\n",
    "\n",
    "        # Perform one step of the optimization (on the policy network)\n",
    "        optimize_model(t)\n",
    "        if done:\n",
    "            episode_durations.append(t + 1)\n",
    "            break\n",
    "    # Update the target network, copying all weights and biases in DQN\n",
    "    if i_episode % TARGET_UPDATE == 0:\n",
    "        target_net.load_state_dict(policy_net.state_dict())\n",
    "print('Complete')"
   ]
  },
  {
   "cell_type": "code",
   "execution_count": null,
   "id": "0ce7c3ad-ab9d-4d04-82b4-03e3c916761a",
   "metadata": {},
   "outputs": [],
   "source": [
    "def concat_state(state):\n",
    "    state = np.stack((state['glyphs'], state['chars'], state['colors'], state['specials']))\n",
    "    state = torch.tensor(np.expand_dims(state, axis=0), device=device)\n",
    "    return state\n",
    "\n",
    "num_episodes = 1\n",
    "for i_episode in range(num_episodes):\n",
    "    print('Episode Number: ' + str(i_episode))\n",
    "    # Initialize the environment and state\n",
    "    obs = env.start(f'Boost-DQN-v{i_episode}')\n",
    "    state = concat_state(obs)\n",
    "    for t in count():\n",
    "        # Select and perform an action\n",
    "        action = select_action(state)\n",
    "        obs, reward, done, _ = env.step(action.item())\n",
    "        reward = torch.tensor([reward], device=device)\n",
    "        \n",
    "        # Keep track of current state and previous states \n",
    "        last_state = state\n",
    "        state = concat_state(obs)\n",
    "\n",
    "        # Store the transition in memory\n",
    "        memory.push(last_state, action, state, reward)\n",
    "\n",
    "        # Perform one step of the optimization (on the policy network)\n",
    "        optimize_model(t)\n",
    "        if done:\n",
    "            episode_durations.append(t + 1)\n",
    "            break\n",
    "    # Update the target network, copying all weights and biases in DQN\n",
    "    if i_episode % TARGET_UPDATE == 0:\n",
    "        target_net.load_state_dict(policy_net.state_dict())\n",
    "    env.finish()\n",
    "print('Complete')\n",
    "# no env close\n",
    "env.write_report()"
   ]
  },
  {
   "cell_type": "code",
   "execution_count": null,
   "id": "f96e01c0-0943-4e61-b92e-cd9602573aab",
   "metadata": {},
   "outputs": [],
   "source": [
    "env.write_report()"
   ]
  },
  {
   "cell_type": "markdown",
   "id": "bcec5c88-c1d7-45f5-8f72-497e734bbe31",
   "metadata": {},
   "source": [
    "# Testing Code - Ignore\n"
   ]
  },
  {
   "cell_type": "code",
   "execution_count": null,
   "id": "e20c2ef1-14c9-455f-ad60-adb32f3a41e0",
   "metadata": {},
   "outputs": [],
   "source": [
    "env = NetHackMetricsEnv('Boosted-DQN-1', character='valkyrie-dwarf', action_mode='reduced')"
   ]
  },
  {
   "cell_type": "code",
   "execution_count": null,
   "id": "06461ef4-b6ac-4336-8790-f4c72954fc17",
   "metadata": {},
   "outputs": [],
   "source": [
    "obs = env.start(f'joe-v{0}')\n",
    "env.render()"
   ]
  }
 ],
 "metadata": {
  "kernelspec": {
   "display_name": "Python 3 (ipykernel)",
   "language": "python",
   "name": "python3"
  },
  "language_info": {
   "codemirror_mode": {
    "name": "ipython",
    "version": 3
   },
   "file_extension": ".py",
   "mimetype": "text/x-python",
   "name": "python",
   "nbconvert_exporter": "python",
   "pygments_lexer": "ipython3",
   "version": "3.9.7"
  }
 },
 "nbformat": 4,
 "nbformat_minor": 5
}
